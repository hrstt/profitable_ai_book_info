{
  "nbformat": 4,
  "nbformat_minor": 0,
  "metadata": {
    "kernelspec": {
      "display_name": "Python 3",
      "language": "python",
      "name": "python3"
    },
    "language_info": {
      "codemirror_mode": {
        "name": "ipython",
        "version": 3
      },
      "file_extension": ".py",
      "mimetype": "text/x-python",
      "name": "python",
      "nbconvert_exporter": "python",
      "pygments_lexer": "ipython3",
      "version": "3.7.6"
    },
    "colab": {
      "name": "ac_01_heart_disease.ipynb",
      "provenance": [],
      "include_colab_link": true
    }
  },
  "cells": [
    {
      "cell_type": "markdown",
      "metadata": {
        "id": "view-in-github",
        "colab_type": "text"
      },
      "source": [
        "<a href=\"https://colab.research.google.com/github/hrstt/profitable_ai_book_info/blob/master/notebooks/ac_01_heart_disease.ipynb\" target=\"_parent\"><img src=\"https://colab.research.google.com/assets/colab-badge.svg\" alt=\"Open In Colab\"/></a>"
      ]
    },
    {
      "cell_type": "markdown",
      "metadata": {
        "id": "0n8HcDZs9I-P",
        "colab_type": "text"
      },
      "source": [
        "## 追加事例1 欠陥・疾患判定の自動化 (2値分類と再現率)"
      ]
    },
    {
      "cell_type": "markdown",
      "metadata": {
        "id": "HgWx2kzD9I-R",
        "colab_type": "text"
      },
      "source": [
        "### 共通事前処理"
      ]
    },
    {
      "cell_type": "code",
      "metadata": {
        "id": "gaI_zg2q9I-S",
        "colab_type": "code",
        "colab": {
          "base_uri": "https://localhost:8080/",
          "height": 34
        },
        "outputId": "98e736d6-6bd4-4fb7-d9fa-d86aa700135e"
      },
      "source": [
        "# 日本語化ライブラリ導入\n",
        "!pip install japanize-matplotlib | tail -n 1"
      ],
      "execution_count": 1,
      "outputs": [
        {
          "output_type": "stream",
          "text": [
            "Successfully installed japanize-matplotlib-1.1.2\n"
          ],
          "name": "stdout"
        }
      ]
    },
    {
      "cell_type": "code",
      "metadata": {
        "id": "tUknFru59I-X",
        "colab_type": "code",
        "colab": {}
      },
      "source": [
        "# 共通事前処理\n",
        "\n",
        "# 余分なワーニングを非表示にする\n",
        "import warnings\n",
        "warnings.filterwarnings('ignore')\n",
        "\n",
        "# 必要ライブラリのimport\n",
        "import pandas as pd\n",
        "import numpy as np\n",
        "import matplotlib.pyplot as plt\n",
        "\n",
        "# matplotlib日本語化対応\n",
        "import japanize_matplotlib\n",
        "\n",
        "# データフレーム表示用関数\n",
        "from IPython.display import display\n",
        "\n",
        "# 表示オプション調整\n",
        "# numpyの浮動小数点の表示精度\n",
        "np.set_printoptions(suppress=True, precision=4)\n",
        "\n",
        "# pandasでの浮動小数点の表示精度\n",
        "pd.options.display.float_format = '{:.4f}'.format\n",
        "\n",
        "# データフレームですべての項目を表示\n",
        "pd.set_option(\"display.max_columns\",None)\n",
        "\n",
        "# グラフのデフォルトフォント指定\n",
        "plt.rcParams[\"font.size\"] = 14\n",
        "\n",
        "# 乱数の種\n",
        "random_seed = 123"
      ],
      "execution_count": 3,
      "outputs": []
    },
    {
      "cell_type": "code",
      "metadata": {
        "id": "UzQ2lKrR9I-c",
        "colab_type": "code",
        "colab": {}
      },
      "source": [
        "# 混同行列表示用関数\n",
        "\n",
        "def make_cm(matrix, columns):\n",
        "    # matrix numpy配列\n",
        "    \n",
        "    # columns 項目名リスト\n",
        "    n = len(columns)\n",
        "    \n",
        "    # '正解データ'をn回繰り返すリスト生成\n",
        "    act = ['正解データ'] * n\n",
        "    pred = ['予測結果'] * n\n",
        "    \n",
        "    #データフレーム生成\n",
        "    cm = pd.DataFrame(matrix, \n",
        "        columns=[pred, columns], index=[act, columns])\n",
        "    return cm"
      ],
      "execution_count": 4,
      "outputs": []
    },
    {
      "cell_type": "markdown",
      "metadata": {
        "id": "W5c6OXyX9I-f",
        "colab_type": "text"
      },
      "source": [
        "### A1.4 データ読み込みからデータ確認まで"
      ]
    },
    {
      "cell_type": "markdown",
      "metadata": {
        "id": "77V3_noX9I-g",
        "colab_type": "text"
      },
      "source": [
        "### 項目メモ\n",
        "\n",
        "#### age\n",
        "年齢\n",
        "\n",
        "#### sex\n",
        "性別\n",
        "* 1: 男性\n",
        "* 0: 女性\n",
        "\n",
        "#### cp\n",
        "胸痛種別\n",
        "* 1：典型的な狭心症\n",
        "* 2：非定型狭心症\n",
        "* 3：非狭心痛\n",
        "* 4：無症候性 \n",
        "\n",
        "#### trestbps\n",
        "安静時血圧  \n",
        "（入院時のmm Hg単位）\n",
        "    \n",
        "#### chol\n",
        "血清コレステロール  \n",
        "（mg / dl）\n",
        "\n",
        "#### fbs\n",
        "空腹時血糖   \n",
        "(> 120 (mg / dl）)\n",
        "* 1 真\n",
        "* 0 偽\n",
        "\n",
        "#### restecg\n",
        "安静時心電図\n",
        " \n",
        "* 0：通常\n",
        "* 1：ST-T波異常（T波反転および/またはST上昇または抑圧> 0.05 mV）\n",
        "* 2：左心室肥大の可能性あり\n",
        "\n",
        "#### thalach\n",
        "最大心拍数\n",
        "\n",
        "#### exang\n",
        "運動誘発性狭心症\n",
        "* 1  はい\n",
        "* 0  いいえ\n",
        "    \n",
        "#### oldpeak\n",
        "ST低下    \n",
        "(運動により誘発される安静時と比較したST低下)\n",
        "\n",
        "#### slope\n",
        " STセグメント勾配  \n",
        "(ピーク運動STセグメント勾配)\n",
        "* 1 上昇\n",
        "* 2 フラット  \n",
        "* 3 下降\n",
        "\n",
        "#### ca \n",
        "主要血管数  \n",
        "(X線透視撮影で着色された主要な血管数（0〜3）)\n",
        "\n",
        "\n",
        "#### thal\n",
        "タール  \n",
        "(タリウム心臓スキャンの結果) \n",
        "* 3: 通常\n",
        "* 6 : 修正された欠陥\n",
        "* 7 : 回復可能な欠陥\n",
        "\n",
        "\n",
        "#### num (目的変数)\n",
        "心臓病診断  \n",
        " （血管造影の状態）\n",
        "* 0: 所見なし\n",
        "* 1: 所見あり"
      ]
    },
    {
      "cell_type": "markdown",
      "metadata": {
        "id": "rZtZDgJy9I-h",
        "colab_type": "text"
      },
      "source": [
        "#### データ読み込み"
      ]
    },
    {
      "cell_type": "code",
      "metadata": {
        "id": "ADPQNMDT9I-i",
        "colab_type": "code",
        "colab": {}
      },
      "source": [
        "# 心疾患公開データ読み込み\n",
        "\n",
        "columns = [\n",
        "    '年齢', '性別', '胸痛種別', '安静時血圧',  '血清コレステロール',\n",
        "    '空腹時血糖値', '安静時心電図',  '最大心拍数',  '運動誘発性狭心症',\n",
        "    'ST低下', 'STセグメント勾配', '主要血管数', 'タール', '心臓病診断'\n",
        "]\n",
        "\n",
        "# 公開データセットのURL\n",
        "url_hu = 'https://archive.ics.uci.edu/ml/machine-learning-databases/\\\n",
        "heart-disease/processed.hungarian.data'\n",
        "\n",
        "# データフレームへの取り込み\n",
        "# 欠損値は'?'で表現されているので、読み込み時にPythonのNaNに変換する\n",
        "df_hu = pd.read_csv(url_hu, header=None, names=columns, na_values='?')"
      ],
      "execution_count": 6,
      "outputs": []
    },
    {
      "cell_type": "markdown",
      "metadata": {
        "id": "-aOSlP-z9I-k",
        "colab_type": "text"
      },
      "source": [
        "#### データ確認"
      ]
    },
    {
      "cell_type": "code",
      "metadata": {
        "id": "W5rHhnhQ9I-l",
        "colab_type": "code",
        "colab": {
          "base_uri": "https://localhost:8080/",
          "height": 204
        },
        "outputId": "cb0f36fa-f635-4f30-cf99-0a4e69a6ae13"
      },
      "source": [
        "# データ全体の確認\n",
        "display(df_hu.head())"
      ],
      "execution_count": 7,
      "outputs": [
        {
          "output_type": "display_data",
          "data": {
            "text/html": [
              "<div>\n",
              "<style scoped>\n",
              "    .dataframe tbody tr th:only-of-type {\n",
              "        vertical-align: middle;\n",
              "    }\n",
              "\n",
              "    .dataframe tbody tr th {\n",
              "        vertical-align: top;\n",
              "    }\n",
              "\n",
              "    .dataframe thead th {\n",
              "        text-align: right;\n",
              "    }\n",
              "</style>\n",
              "<table border=\"1\" class=\"dataframe\">\n",
              "  <thead>\n",
              "    <tr style=\"text-align: right;\">\n",
              "      <th></th>\n",
              "      <th>年齢</th>\n",
              "      <th>性別</th>\n",
              "      <th>胸痛種別</th>\n",
              "      <th>安静時血圧</th>\n",
              "      <th>血清コレステロール</th>\n",
              "      <th>空腹時血糖値</th>\n",
              "      <th>安静時心電図</th>\n",
              "      <th>最大心拍数</th>\n",
              "      <th>運動誘発性狭心症</th>\n",
              "      <th>ST低下</th>\n",
              "      <th>STセグメント勾配</th>\n",
              "      <th>主要血管数</th>\n",
              "      <th>タール</th>\n",
              "      <th>心臓病診断</th>\n",
              "    </tr>\n",
              "  </thead>\n",
              "  <tbody>\n",
              "    <tr>\n",
              "      <th>0</th>\n",
              "      <td>28</td>\n",
              "      <td>1</td>\n",
              "      <td>2</td>\n",
              "      <td>130.0000</td>\n",
              "      <td>132.0000</td>\n",
              "      <td>0.0000</td>\n",
              "      <td>2.0000</td>\n",
              "      <td>185.0000</td>\n",
              "      <td>0.0000</td>\n",
              "      <td>0.0000</td>\n",
              "      <td>nan</td>\n",
              "      <td>nan</td>\n",
              "      <td>nan</td>\n",
              "      <td>0</td>\n",
              "    </tr>\n",
              "    <tr>\n",
              "      <th>1</th>\n",
              "      <td>29</td>\n",
              "      <td>1</td>\n",
              "      <td>2</td>\n",
              "      <td>120.0000</td>\n",
              "      <td>243.0000</td>\n",
              "      <td>0.0000</td>\n",
              "      <td>0.0000</td>\n",
              "      <td>160.0000</td>\n",
              "      <td>0.0000</td>\n",
              "      <td>0.0000</td>\n",
              "      <td>nan</td>\n",
              "      <td>nan</td>\n",
              "      <td>nan</td>\n",
              "      <td>0</td>\n",
              "    </tr>\n",
              "    <tr>\n",
              "      <th>2</th>\n",
              "      <td>29</td>\n",
              "      <td>1</td>\n",
              "      <td>2</td>\n",
              "      <td>140.0000</td>\n",
              "      <td>nan</td>\n",
              "      <td>0.0000</td>\n",
              "      <td>0.0000</td>\n",
              "      <td>170.0000</td>\n",
              "      <td>0.0000</td>\n",
              "      <td>0.0000</td>\n",
              "      <td>nan</td>\n",
              "      <td>nan</td>\n",
              "      <td>nan</td>\n",
              "      <td>0</td>\n",
              "    </tr>\n",
              "    <tr>\n",
              "      <th>3</th>\n",
              "      <td>30</td>\n",
              "      <td>0</td>\n",
              "      <td>1</td>\n",
              "      <td>170.0000</td>\n",
              "      <td>237.0000</td>\n",
              "      <td>0.0000</td>\n",
              "      <td>1.0000</td>\n",
              "      <td>170.0000</td>\n",
              "      <td>0.0000</td>\n",
              "      <td>0.0000</td>\n",
              "      <td>nan</td>\n",
              "      <td>nan</td>\n",
              "      <td>6.0000</td>\n",
              "      <td>0</td>\n",
              "    </tr>\n",
              "    <tr>\n",
              "      <th>4</th>\n",
              "      <td>31</td>\n",
              "      <td>0</td>\n",
              "      <td>2</td>\n",
              "      <td>100.0000</td>\n",
              "      <td>219.0000</td>\n",
              "      <td>0.0000</td>\n",
              "      <td>1.0000</td>\n",
              "      <td>150.0000</td>\n",
              "      <td>0.0000</td>\n",
              "      <td>0.0000</td>\n",
              "      <td>nan</td>\n",
              "      <td>nan</td>\n",
              "      <td>nan</td>\n",
              "      <td>0</td>\n",
              "    </tr>\n",
              "  </tbody>\n",
              "</table>\n",
              "</div>"
            ],
            "text/plain": [
              "   年齢  性別  胸痛種別    安静時血圧  血清コレステロール  空腹時血糖値  安静時心電図    最大心拍数  運動誘発性狭心症   ST低下  \\\n",
              "0  28   1     2 130.0000   132.0000  0.0000  2.0000 185.0000    0.0000 0.0000   \n",
              "1  29   1     2 120.0000   243.0000  0.0000  0.0000 160.0000    0.0000 0.0000   \n",
              "2  29   1     2 140.0000        nan  0.0000  0.0000 170.0000    0.0000 0.0000   \n",
              "3  30   0     1 170.0000   237.0000  0.0000  1.0000 170.0000    0.0000 0.0000   \n",
              "4  31   0     2 100.0000   219.0000  0.0000  1.0000 150.0000    0.0000 0.0000   \n",
              "\n",
              "   STセグメント勾配  主要血管数    タール  心臓病診断  \n",
              "0        nan    nan    nan      0  \n",
              "1        nan    nan    nan      0  \n",
              "2        nan    nan    nan      0  \n",
              "3        nan    nan 6.0000      0  \n",
              "4        nan    nan    nan      0  "
            ]
          },
          "metadata": {
            "tags": []
          }
        }
      ]
    },
    {
      "cell_type": "code",
      "metadata": {
        "id": "uZkIyNZY9I-n",
        "colab_type": "code",
        "colab": {
          "base_uri": "https://localhost:8080/",
          "height": 136
        },
        "outputId": "18caab4b-916a-42f5-ce71-17706c2b7a96"
      },
      "source": [
        "# 学習データ件数と項目数確認\n",
        "print(df_hu.shape)\n",
        "print()\n",
        "\n",
        "# 「心臓病診断」の値の分布確認\n",
        "print(df_hu['心臓病診断'].value_counts())\n",
        "print()\n",
        "\n",
        "# 所見あり比率\n",
        "rate = df_hu['心臓病診断'].value_counts()[1]/len(df_hu)\n",
        "print(f'有症率: {rate:.4f}')"
      ],
      "execution_count": 8,
      "outputs": [
        {
          "output_type": "stream",
          "text": [
            "(294, 14)\n",
            "\n",
            "0    188\n",
            "1    106\n",
            "Name: 心臓病診断, dtype: int64\n",
            "\n",
            "有症率: 0.3605\n"
          ],
          "name": "stdout"
        }
      ]
    },
    {
      "cell_type": "code",
      "metadata": {
        "id": "aIC-688X9I-q",
        "colab_type": "code",
        "colab": {
          "base_uri": "https://localhost:8080/",
          "height": 722
        },
        "outputId": "b3c94c0e-94b6-4d0a-a9eb-5a52b5b3b939"
      },
      "source": [
        "# ヒストグラム表示\n",
        "\n",
        "# グラフのサイズ調整のためのおまじない\n",
        "from pylab import rcParams\n",
        "rcParams['figure.figsize'] = (12, 12)\n",
        "\n",
        "# データフレームの数値項目でヒストグラム表示\n",
        "df_hu.hist()\n",
        "plt.show()"
      ],
      "execution_count": 9,
      "outputs": [
        {
          "output_type": "display_data",
          "data": {
            "image/png": "[encoded data removed]",
            "text/plain": [
              "<Figure size 864x864 with 16 Axes>"
            ]
          },
          "metadata": {
            "tags": [],
            "needs_background": "light"
          }
        }
      ]
    },
    {
      "cell_type": "code",
      "metadata": {
        "id": "BDMAgCtM9I-t",
        "colab_type": "code",
        "colab": {
          "base_uri": "https://localhost:8080/",
          "height": 272
        },
        "outputId": "a5b4f21a-54cd-4cc3-a210-d12422b6a0d8"
      },
      "source": [
        "# 欠損値確認\n",
        "print(df_hu.isnull().sum())"
      ],
      "execution_count": 11,
      "outputs": [
        {
          "output_type": "stream",
          "text": [
            "年齢             0\n",
            "性別             0\n",
            "胸痛種別           0\n",
            "安静時血圧          1\n",
            "血清コレステロール     23\n",
            "空腹時血糖値         8\n",
            "安静時心電図         1\n",
            "最大心拍数          1\n",
            "運動誘発性狭心症       1\n",
            "ST低下           0\n",
            "STセグメント勾配    190\n",
            "主要血管数        291\n",
            "タール          266\n",
            "心臓病診断          0\n",
            "dtype: int64\n"
          ],
          "name": "stdout"
        }
      ]
    },
    {
      "cell_type": "markdown",
      "metadata": {
        "id": "zPLC-Njf9I-w",
        "colab_type": "text"
      },
      "source": [
        "### A1.5 データ前処理とデータ分割"
      ]
    },
    {
      "cell_type": "markdown",
      "metadata": {
        "id": "6I03zWto9I-w",
        "colab_type": "text"
      },
      "source": [
        "#### データ前処理"
      ]
    },
    {
      "cell_type": "markdown",
      "metadata": {
        "id": "7x96BxEs9I-x",
        "colab_type": "text"
      },
      "source": [
        "#### 欠損値対応方針\n",
        "\n",
        "* 安静時血圧: 平均値\n",
        "*  血清コレステロール: 平均値\n",
        "* 空腹時血糖値: 0\n",
        "* 安静時心電図: 0\n",
        "* 最大心拍数: 平均値\n",
        "* 運動誘発性狭心症: 0   \n",
        "* STセグメント勾配: 2  \n",
        "----    \n",
        "* 主要血管数: 項目ごと落とす\n",
        "* タール: 項目ごと落とす\n"
      ]
    },
    {
      "cell_type": "code",
      "metadata": {
        "id": "gJv5RlDq9I-x",
        "colab_type": "code",
        "colab": {
          "base_uri": "https://localhost:8080/",
          "height": 34
        },
        "outputId": "aa837b8e-6dc0-4f54-ac9e-ac39042cf2f1"
      },
      "source": [
        "# 平均値の計算\n",
        "ave1 = df_hu['安静時血圧'].mean()\n",
        "ave2 = df_hu['血清コレステロール'].mean()\n",
        "ave3 = df_hu['最大心拍数'].mean()\n",
        "\n",
        "# 結果確認\n",
        "print(f'安静時血圧: {ave1:.1f}  血清コレステロール: {ave2:.1f}   最大心拍数:{ave3:.1f}')"
      ],
      "execution_count": 12,
      "outputs": [
        {
          "output_type": "stream",
          "text": [
            "安静時血圧: 132.6  血清コレステロール: 250.8   最大心拍数:139.1\n"
          ],
          "name": "stdout"
        }
      ]
    },
    {
      "cell_type": "code",
      "metadata": {
        "id": "7Y1eagoj9I-0",
        "colab_type": "code",
        "colab": {}
      },
      "source": [
        "# 欠損値の置換\n",
        "df2 = df_hu.fillna(\n",
        "    {'安静時血圧': ave1,\n",
        "    '血清コレステロール': ave2,\n",
        "    '空腹時血糖値': 0,\n",
        "    '安静時心電図': 0,\n",
        "    '最大心拍数': ave3,\n",
        "    '運動誘発性狭心症': 0,\n",
        "    'STセグメント勾配': 2}\n",
        ")\n",
        "\n",
        "# 列の削除\n",
        "df3 = df2.drop(['主要血管数', 'タール'], axis=1)"
      ],
      "execution_count": 13,
      "outputs": []
    },
    {
      "cell_type": "code",
      "metadata": {
        "scrolled": true,
        "id": "Wn-uLTXD9I-2",
        "colab_type": "code",
        "colab": {
          "base_uri": "https://localhost:8080/",
          "height": 425
        },
        "outputId": "e2c557d8-ee01-4957-dd94-f2408cc78e77"
      },
      "source": [
        "# 結果確認\n",
        "print(df3.isnull().sum())\n",
        "display(df3.head())"
      ],
      "execution_count": 14,
      "outputs": [
        {
          "output_type": "stream",
          "text": [
            "年齢           0\n",
            "性別           0\n",
            "胸痛種別         0\n",
            "安静時血圧        0\n",
            "血清コレステロール    0\n",
            "空腹時血糖値       0\n",
            "安静時心電図       0\n",
            "最大心拍数        0\n",
            "運動誘発性狭心症     0\n",
            "ST低下         0\n",
            "STセグメント勾配    0\n",
            "心臓病診断        0\n",
            "dtype: int64\n"
          ],
          "name": "stdout"
        },
        {
          "output_type": "display_data",
          "data": {
            "text/html": [
              "<div>\n",
              "<style scoped>\n",
              "    .dataframe tbody tr th:only-of-type {\n",
              "        vertical-align: middle;\n",
              "    }\n",
              "\n",
              "    .dataframe tbody tr th {\n",
              "        vertical-align: top;\n",
              "    }\n",
              "\n",
              "    .dataframe thead th {\n",
              "        text-align: right;\n",
              "    }\n",
              "</style>\n",
              "<table border=\"1\" class=\"dataframe\">\n",
              "  <thead>\n",
              "    <tr style=\"text-align: right;\">\n",
              "      <th></th>\n",
              "      <th>年齢</th>\n",
              "      <th>性別</th>\n",
              "      <th>胸痛種別</th>\n",
              "      <th>安静時血圧</th>\n",
              "      <th>血清コレステロール</th>\n",
              "      <th>空腹時血糖値</th>\n",
              "      <th>安静時心電図</th>\n",
              "      <th>最大心拍数</th>\n",
              "      <th>運動誘発性狭心症</th>\n",
              "      <th>ST低下</th>\n",
              "      <th>STセグメント勾配</th>\n",
              "      <th>心臓病診断</th>\n",
              "    </tr>\n",
              "  </thead>\n",
              "  <tbody>\n",
              "    <tr>\n",
              "      <th>0</th>\n",
              "      <td>28</td>\n",
              "      <td>1</td>\n",
              "      <td>2</td>\n",
              "      <td>130.0000</td>\n",
              "      <td>132.0000</td>\n",
              "      <td>0.0000</td>\n",
              "      <td>2.0000</td>\n",
              "      <td>185.0000</td>\n",
              "      <td>0.0000</td>\n",
              "      <td>0.0000</td>\n",
              "      <td>2.0000</td>\n",
              "      <td>0</td>\n",
              "    </tr>\n",
              "    <tr>\n",
              "      <th>1</th>\n",
              "      <td>29</td>\n",
              "      <td>1</td>\n",
              "      <td>2</td>\n",
              "      <td>120.0000</td>\n",
              "      <td>243.0000</td>\n",
              "      <td>0.0000</td>\n",
              "      <td>0.0000</td>\n",
              "      <td>160.0000</td>\n",
              "      <td>0.0000</td>\n",
              "      <td>0.0000</td>\n",
              "      <td>2.0000</td>\n",
              "      <td>0</td>\n",
              "    </tr>\n",
              "    <tr>\n",
              "      <th>2</th>\n",
              "      <td>29</td>\n",
              "      <td>1</td>\n",
              "      <td>2</td>\n",
              "      <td>140.0000</td>\n",
              "      <td>250.8487</td>\n",
              "      <td>0.0000</td>\n",
              "      <td>0.0000</td>\n",
              "      <td>170.0000</td>\n",
              "      <td>0.0000</td>\n",
              "      <td>0.0000</td>\n",
              "      <td>2.0000</td>\n",
              "      <td>0</td>\n",
              "    </tr>\n",
              "    <tr>\n",
              "      <th>3</th>\n",
              "      <td>30</td>\n",
              "      <td>0</td>\n",
              "      <td>1</td>\n",
              "      <td>170.0000</td>\n",
              "      <td>237.0000</td>\n",
              "      <td>0.0000</td>\n",
              "      <td>1.0000</td>\n",
              "      <td>170.0000</td>\n",
              "      <td>0.0000</td>\n",
              "      <td>0.0000</td>\n",
              "      <td>2.0000</td>\n",
              "      <td>0</td>\n",
              "    </tr>\n",
              "    <tr>\n",
              "      <th>4</th>\n",
              "      <td>31</td>\n",
              "      <td>0</td>\n",
              "      <td>2</td>\n",
              "      <td>100.0000</td>\n",
              "      <td>219.0000</td>\n",
              "      <td>0.0000</td>\n",
              "      <td>1.0000</td>\n",
              "      <td>150.0000</td>\n",
              "      <td>0.0000</td>\n",
              "      <td>0.0000</td>\n",
              "      <td>2.0000</td>\n",
              "      <td>0</td>\n",
              "    </tr>\n",
              "  </tbody>\n",
              "</table>\n",
              "</div>"
            ],
            "text/plain": [
              "   年齢  性別  胸痛種別    安静時血圧  血清コレステロール  空腹時血糖値  安静時心電図    最大心拍数  運動誘発性狭心症   ST低下  \\\n",
              "0  28   1     2 130.0000   132.0000  0.0000  2.0000 185.0000    0.0000 0.0000   \n",
              "1  29   1     2 120.0000   243.0000  0.0000  0.0000 160.0000    0.0000 0.0000   \n",
              "2  29   1     2 140.0000   250.8487  0.0000  0.0000 170.0000    0.0000 0.0000   \n",
              "3  30   0     1 170.0000   237.0000  0.0000  1.0000 170.0000    0.0000 0.0000   \n",
              "4  31   0     2 100.0000   219.0000  0.0000  1.0000 150.0000    0.0000 0.0000   \n",
              "\n",
              "   STセグメント勾配  心臓病診断  \n",
              "0     2.0000      0  \n",
              "1     2.0000      0  \n",
              "2     2.0000      0  \n",
              "3     2.0000      0  \n",
              "4     2.0000      0  "
            ]
          },
          "metadata": {
            "tags": []
          }
        }
      ]
    },
    {
      "cell_type": "markdown",
      "metadata": {
        "id": "VmyHeUgm9I-5",
        "colab_type": "text"
      },
      "source": [
        "#### データ分割"
      ]
    },
    {
      "cell_type": "code",
      "metadata": {
        "id": "5ueWHzTp9I-5",
        "colab_type": "code",
        "colab": {}
      },
      "source": [
        "# 入力データと正解データの分離\n",
        "x = df3.drop('心臓病診断', axis=1)\n",
        "y = df3['心臓病診断'].values\n",
        "\n",
        "# 訓練データと検証データの分離\n",
        "test_size=0.40\n",
        "\n",
        "from sklearn.model_selection import train_test_split\n",
        "x_train, x_test, y_train, y_test = train_test_split(\n",
        "  x, y, test_size=test_size, random_state=random_seed,\n",
        "  stratify=y)"
      ],
      "execution_count": 15,
      "outputs": []
    },
    {
      "cell_type": "markdown",
      "metadata": {
        "id": "5sFqjmay9I-8",
        "colab_type": "text"
      },
      "source": [
        "### A1.6 アルゴリズムの選定"
      ]
    },
    {
      "cell_type": "markdown",
      "metadata": {
        "id": "QTFyTNRT9I-8",
        "colab_type": "text"
      },
      "source": [
        "#### アルゴリズム選定"
      ]
    },
    {
      "cell_type": "code",
      "metadata": {
        "id": "cTTEVCfi9I-9",
        "colab_type": "code",
        "colab": {}
      },
      "source": [
        "# 候補アルゴリズムのリスト化\n",
        "\n",
        "# ロジスティック回帰 (4.3.3)\n",
        "from sklearn.linear_model import LogisticRegression\n",
        "algorithm1 = LogisticRegression(random_state=random_seed)\n",
        "\n",
        "# 決定木 (4.3.6)\n",
        "from sklearn.tree import DecisionTreeClassifier\n",
        "algorithm2 = DecisionTreeClassifier(random_state=random_seed)\n",
        "\n",
        "# ランダムフォレスト (4.3.7)\n",
        "from sklearn.ensemble import RandomForestClassifier\n",
        "algorithm3 = RandomForestClassifier(random_state=random_seed)\n",
        "\n",
        "# XGBoost (4.3.8)\n",
        "from xgboost import XGBClassifier\n",
        "algorithm4 = XGBClassifier(random_state=random_seed)\n",
        "\n",
        "algorithms = [algorithm1, algorithm2, algorithm3, algorithm4]"
      ],
      "execution_count": 17,
      "outputs": []
    },
    {
      "cell_type": "code",
      "metadata": {
        "id": "hJ5Uw4fB9I-_",
        "colab_type": "code",
        "colab": {
          "base_uri": "https://localhost:8080/",
          "height": 85
        },
        "outputId": "c85650fd-e48b-48ec-e690-e7c5a1f0f731"
      },
      "source": [
        "# 交差検定法を用いて最適なアルゴリズムの選定\n",
        "\n",
        "from sklearn.model_selection import StratifiedKFold\n",
        "stratifiedkfold = StratifiedKFold(n_splits=3)\n",
        "\n",
        "from sklearn.model_selection import cross_val_score\n",
        "for algorithm in algorithms:\n",
        "    # 交差検定法の実行\n",
        "    scores = cross_val_score(algorithm , x_train, y_train,\n",
        "        cv=stratifiedkfold, scoring='roc_auc')\n",
        "    score = scores.mean()\n",
        "    name = algorithm.__class__.__name__\n",
        "    print(f'平均スコア: {score:.4f}  個別スコア: {scores}  {name}')"
      ],
      "execution_count": 18,
      "outputs": [
        {
          "output_type": "stream",
          "text": [
            "平均スコア: 0.8569  個別スコア: [0.8534 0.9323 0.7851]  LogisticRegression\n",
            "平均スコア: 0.6994  個別スコア: [0.6936 0.8152 0.5894]  DecisionTreeClassifier\n",
            "平均スコア: 0.8856  個別スコア: [0.8747 0.9449 0.8372]  RandomForestClassifier\n",
            "平均スコア: 0.8402  個別スコア: [0.8221 0.9148 0.7838]  XGBClassifier\n"
          ],
          "name": "stdout"
        }
      ]
    },
    {
      "cell_type": "markdown",
      "metadata": {
        "id": "8v53reuQ9I_B",
        "colab_type": "text"
      },
      "source": [
        "今回はランダムフォレストが一番性能がよかったので以降のアルゴリズムとして利用\n",
        "\n"
      ]
    },
    {
      "cell_type": "markdown",
      "metadata": {
        "id": "F8FJyqez9I_C",
        "colab_type": "text"
      },
      "source": [
        "### A1.7 学習・予測・評価"
      ]
    },
    {
      "cell_type": "code",
      "metadata": {
        "id": "EG6tOK079I_C",
        "colab_type": "code",
        "colab": {}
      },
      "source": [
        "# アルゴリズム選定\n",
        "# ランダムフォレストを選定\n",
        "algorithm = RandomForestClassifier(random_state=random_seed)\n",
        "\n",
        "# 学習\n",
        "algorithm.fit(x_train, y_train)\n",
        "\n",
        "# 予測\n",
        "y_pred = algorithm.predict(x_test)"
      ],
      "execution_count": 19,
      "outputs": []
    },
    {
      "cell_type": "code",
      "metadata": {
        "id": "IPd8ukpo9I_F",
        "colab_type": "code",
        "colab": {
          "base_uri": "https://localhost:8080/",
          "height": 159
        },
        "outputId": "d73168e7-f171-486e-879f-ea84d9d2fd08"
      },
      "source": [
        "# 評価\n",
        "\n",
        "# 混同行列を出力\n",
        "from sklearn.metrics import confusion_matrix\n",
        "df_matrix = make_cm(\n",
        "    confusion_matrix(y_test, y_pred),\n",
        "    ['所見なし', '所見あり'])\n",
        "display(df_matrix)\n",
        "\n",
        "# 適合率、再現率、F値を計算\n",
        "from sklearn.metrics import precision_recall_fscore_support\n",
        "precision, recall, fscore, _ = precision_recall_fscore_support(y_test, \n",
        "    y_pred, average='binary')\n",
        "print(f'適合率: {precision:.4f}  再現率: {recall:.4f}  F値: {fscore:.4f}')"
      ],
      "execution_count": 20,
      "outputs": [
        {
          "output_type": "display_data",
          "data": {
            "text/html": [
              "<div>\n",
              "<style scoped>\n",
              "    .dataframe tbody tr th:only-of-type {\n",
              "        vertical-align: middle;\n",
              "    }\n",
              "\n",
              "    .dataframe tbody tr th {\n",
              "        vertical-align: top;\n",
              "    }\n",
              "\n",
              "    .dataframe thead tr th {\n",
              "        text-align: left;\n",
              "    }\n",
              "</style>\n",
              "<table border=\"1\" class=\"dataframe\">\n",
              "  <thead>\n",
              "    <tr>\n",
              "      <th></th>\n",
              "      <th></th>\n",
              "      <th colspan=\"2\" halign=\"left\">予測結果</th>\n",
              "    </tr>\n",
              "    <tr>\n",
              "      <th></th>\n",
              "      <th></th>\n",
              "      <th>所見なし</th>\n",
              "      <th>所見あり</th>\n",
              "    </tr>\n",
              "  </thead>\n",
              "  <tbody>\n",
              "    <tr>\n",
              "      <th rowspan=\"2\" valign=\"top\">正解データ</th>\n",
              "      <th>所見なし</th>\n",
              "      <td>68</td>\n",
              "      <td>7</td>\n",
              "    </tr>\n",
              "    <tr>\n",
              "      <th>所見あり</th>\n",
              "      <td>14</td>\n",
              "      <td>29</td>\n",
              "    </tr>\n",
              "  </tbody>\n",
              "</table>\n",
              "</div>"
            ],
            "text/plain": [
              "           予測結果     \n",
              "           所見なし 所見あり\n",
              "正解データ 所見なし   68    7\n",
              "      所見あり   14   29"
            ]
          },
          "metadata": {
            "tags": []
          }
        },
        {
          "output_type": "stream",
          "text": [
            "適合率: 0.8056  再現率: 0.6744  F値: 0.7342\n"
          ],
          "name": "stdout"
        }
      ]
    },
    {
      "cell_type": "markdown",
      "metadata": {
        "id": "yaBXzXvG9I_H",
        "colab_type": "text"
      },
      "source": [
        "### A1.8 チューニング"
      ]
    },
    {
      "cell_type": "code",
      "metadata": {
        "id": "c59zUjA79I_I",
        "colab_type": "code",
        "colab": {
          "base_uri": "https://localhost:8080/",
          "height": 413
        },
        "outputId": "f8888bd2-fced-4580-e6ce-05b70b0b5218"
      },
      "source": [
        "# 確率値の度数分布グラフ\n",
        "\n",
        "# y=1の確率値取得\n",
        "y_proba1= algorithm.predict_proba(x_test)[:,1]\n",
        "\n",
        "# y_test=0 と y_test=1 でデータ分割\n",
        "y0 = y_proba1[y_test==0]\n",
        "y1 = y_proba1[y_test==1]\n",
        "\n",
        "# 散布図描画\n",
        "import seaborn as sns\n",
        "plt.figure(figsize=(6,6))\n",
        "plt.title('確率値の度数分布')\n",
        "sns.distplot(y1, kde=False, norm_hist=True,\n",
        "    bins=10,color='b', label='所見あり')\n",
        "sns.distplot(y0, kde=False, norm_hist=True,\n",
        "    bins=10,color='k', label='所見なし')\n",
        "plt.xlabel('確率値')\n",
        "plt.legend()\n",
        "plt.show()"
      ],
      "execution_count": 21,
      "outputs": [
        {
          "output_type": "display_data",
          "data": {
            "image/png": "[encoded data removed]",
            "text/plain": [
              "<Figure size 432x432 with 1 Axes>"
            ]
          },
          "metadata": {
            "tags": [],
            "needs_background": "light"
          }
        }
      ]
    },
    {
      "cell_type": "markdown",
      "metadata": {
        "id": "4LNC4PGL9I_K",
        "colab_type": "text"
      },
      "source": [
        "#### 閾値見直し"
      ]
    },
    {
      "cell_type": "markdown",
      "metadata": {
        "id": "V74qAv1Q9I_L",
        "colab_type": "text"
      },
      "source": [
        "#### predict_proba関数を利用して、閾値0.5以外の場合の予測をする\n",
        "(4.4節参照)"
      ]
    },
    {
      "cell_type": "code",
      "metadata": {
        "id": "vjDBJZD69I_L",
        "colab_type": "code",
        "colab": {}
      },
      "source": [
        "# 閾値を変更した場合の予測関数の定義\n",
        "def pred(algorithm, x, thres):\n",
        "    # 確率値の取得(行列)\n",
        "    y_proba = algorithm.predict_proba(x)\n",
        "    \n",
        "    # 予測結果1の確率値\n",
        "    y_proba1 =  y_proba[:,1]\n",
        "    \n",
        "    # 予測結果1の確率値 > 閾値\n",
        "    y_pred = (y_proba1 > thres).astype(int)\n",
        "    return y_pred"
      ],
      "execution_count": 22,
      "outputs": []
    },
    {
      "cell_type": "code",
      "metadata": {
        "id": "6_c0HfXV9I_O",
        "colab_type": "code",
        "colab": {
          "base_uri": "https://localhost:8080/",
          "height": 187
        },
        "outputId": "388cb855-c2e2-4424-c4ad-2edaa944c5ab"
      },
      "source": [
        "# 閾値を0.05刻みに変化させて、適合率, 再現率, F値を計算する\n",
        "thres_list = np.arange(0.5, 0, -0.05)\n",
        "\n",
        "for thres in thres_list:\n",
        "    y_pred2 = pred(algorithm, x_test, thres)\n",
        "    pred_sum =  y_pred2.sum()\n",
        "    precision, recall, fscore, _ = precision_recall_fscore_support(\n",
        "        y_test, y_pred2, average='binary')\n",
        "    print(f'閾値: {thres:.2f} 合計: {pred_sum}  適合率: {precision:.4f}\\\n",
        "  再現率: {recall:.4f}  F値: {fscore:.4f})')"
      ],
      "execution_count": 23,
      "outputs": [
        {
          "output_type": "stream",
          "text": [
            "閾値: 0.50 合計: 36  適合率: 0.8056  再現率: 0.6744  F値: 0.7342)\n",
            "閾値: 0.45 合計: 38  適合率: 0.7895  再現率: 0.6977  F値: 0.7407)\n",
            "閾値: 0.40 合計: 46  適合率: 0.7391  再現率: 0.7907  F値: 0.7640)\n",
            "閾値: 0.35 合計: 52  適合率: 0.7115  再現率: 0.8605  F値: 0.7789)\n",
            "閾値: 0.30 合計: 58  適合率: 0.6724  再現率: 0.9070  F値: 0.7723)\n",
            "閾値: 0.25 合計: 63  適合率: 0.6349  再現率: 0.9302  F値: 0.7547)\n",
            "閾値: 0.20 合計: 68  適合率: 0.6029  再現率: 0.9535  F値: 0.7387)\n",
            "閾値: 0.15 合計: 77  適合率: 0.5455  再現率: 0.9767  F値: 0.7000)\n",
            "閾値: 0.10 合計: 84  適合率: 0.5000  再現率: 0.9767  F値: 0.6614)\n",
            "閾値: 0.05 合計: 98  適合率: 0.4286  再現率: 0.9767  F値: 0.5957)\n"
          ],
          "name": "stdout"
        }
      ]
    },
    {
      "cell_type": "code",
      "metadata": {
        "id": "PPAy8gwp9I_Q",
        "colab_type": "code",
        "colab": {
          "base_uri": "https://localhost:8080/",
          "height": 159
        },
        "outputId": "b6d8481f-56b8-4556-ab36-4c2aa3efaad7"
      },
      "source": [
        "# 再現率重視で閾値を0.25にする\n",
        "y_final = pred(algorithm, x_test, 0.25)\n",
        "\n",
        "# 混同行列を出力\n",
        "from sklearn.metrics import confusion_matrix\n",
        "df_matrix4 = make_cm(\n",
        "    confusion_matrix(y_test, y_final),\n",
        "    ['所見なし', '所見あり'])\n",
        "display(df_matrix4)\n",
        "\n",
        "# 適合率、再現率、F値を計算\n",
        "precision, recall, fscore, _ = precision_recall_fscore_support(\n",
        "    y_test, y_final, average='binary')\n",
        "print(f'適合率: {precision:.4f}  再現率: {recall:.4f}  F値: {fscore:.4f}')"
      ],
      "execution_count": 24,
      "outputs": [
        {
          "output_type": "display_data",
          "data": {
            "text/html": [
              "<div>\n",
              "<style scoped>\n",
              "    .dataframe tbody tr th:only-of-type {\n",
              "        vertical-align: middle;\n",
              "    }\n",
              "\n",
              "    .dataframe tbody tr th {\n",
              "        vertical-align: top;\n",
              "    }\n",
              "\n",
              "    .dataframe thead tr th {\n",
              "        text-align: left;\n",
              "    }\n",
              "</style>\n",
              "<table border=\"1\" class=\"dataframe\">\n",
              "  <thead>\n",
              "    <tr>\n",
              "      <th></th>\n",
              "      <th></th>\n",
              "      <th colspan=\"2\" halign=\"left\">予測結果</th>\n",
              "    </tr>\n",
              "    <tr>\n",
              "      <th></th>\n",
              "      <th></th>\n",
              "      <th>所見なし</th>\n",
              "      <th>所見あり</th>\n",
              "    </tr>\n",
              "  </thead>\n",
              "  <tbody>\n",
              "    <tr>\n",
              "      <th rowspan=\"2\" valign=\"top\">正解データ</th>\n",
              "      <th>所見なし</th>\n",
              "      <td>52</td>\n",
              "      <td>23</td>\n",
              "    </tr>\n",
              "    <tr>\n",
              "      <th>所見あり</th>\n",
              "      <td>3</td>\n",
              "      <td>40</td>\n",
              "    </tr>\n",
              "  </tbody>\n",
              "</table>\n",
              "</div>"
            ],
            "text/plain": [
              "           予測結果     \n",
              "           所見なし 所見あり\n",
              "正解データ 所見なし   52   23\n",
              "      所見あり    3   40"
            ]
          },
          "metadata": {
            "tags": []
          }
        },
        {
          "output_type": "stream",
          "text": [
            "適合率: 0.6349  再現率: 0.9302  F値: 0.7547\n"
          ],
          "name": "stdout"
        }
      ]
    }
  ]
}